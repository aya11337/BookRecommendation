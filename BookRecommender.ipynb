{
 "cells": [
  {
   "cell_type": "code",
   "execution_count": null,
   "id": "b42545e1",
   "metadata": {
    "vscode": {
     "languageId": "plaintext"
    }
   },
   "outputs": [],
   "source": [
    "import weaviate\n",
    "from Supressout import suppress_output\n"
   ]
  },
  {
   "cell_type": "code",
   "execution_count": 14,
   "id": "becbc96a",
   "metadata": {},
   "outputs": [
    {
     "name": "stdout",
     "output_type": "stream",
     "text": [
      "Collecting weaviate-client\n",
      "  Downloading weaviate_client-4.15.4-py3-none-any.whl.metadata (3.7 kB)\n",
      "Collecting httpx<0.29.0,>=0.26.0 (from weaviate-client)\n",
      "  Using cached httpx-0.28.1-py3-none-any.whl.metadata (7.1 kB)\n",
      "Collecting validators==0.34.0 (from weaviate-client)\n",
      "  Using cached validators-0.34.0-py3-none-any.whl.metadata (3.8 kB)\n",
      "Collecting authlib<2.0.0,>=1.2.1 (from weaviate-client)\n",
      "  Downloading authlib-1.6.0-py2.py3-none-any.whl.metadata (4.1 kB)\n",
      "Collecting pydantic<3.0.0,>=2.8.0 (from weaviate-client)\n",
      "  Downloading pydantic-2.11.7-py3-none-any.whl.metadata (67 kB)\n",
      "Collecting grpcio<2.0.0,>=1.66.2 (from weaviate-client)\n",
      "  Downloading grpcio-1.73.1-cp311-cp311-macosx_11_0_universal2.whl.metadata (3.8 kB)\n",
      "Collecting grpcio-tools<2.0.0,>=1.66.2 (from weaviate-client)\n",
      "  Downloading grpcio_tools-1.73.1-cp311-cp311-macosx_11_0_universal2.whl.metadata (5.3 kB)\n",
      "Collecting grpcio-health-checking<2.0.0,>=1.66.2 (from weaviate-client)\n",
      "  Downloading grpcio_health_checking-1.73.1-py3-none-any.whl.metadata (1.0 kB)\n",
      "Collecting deprecation<3.0.0,>=2.1.0 (from weaviate-client)\n",
      "  Using cached deprecation-2.1.0-py2.py3-none-any.whl.metadata (4.6 kB)\n",
      "Collecting cryptography (from authlib<2.0.0,>=1.2.1->weaviate-client)\n",
      "  Downloading cryptography-45.0.5-cp311-abi3-macosx_10_9_universal2.whl.metadata (5.7 kB)\n",
      "Requirement already satisfied: packaging in /Users/shreyabaral/Library/Python/3.11/lib/python/site-packages (from deprecation<3.0.0,>=2.1.0->weaviate-client) (24.1)\n",
      "Requirement already satisfied: protobuf<7.0.0,>=6.30.0 in /opt/homebrew/lib/python3.11/site-packages (from grpcio-health-checking<2.0.0,>=1.66.2->weaviate-client) (6.31.1)\n",
      "Requirement already satisfied: setuptools in /opt/homebrew/lib/python3.11/site-packages (from grpcio-tools<2.0.0,>=1.66.2->weaviate-client) (80.9.0)\n",
      "Collecting anyio (from httpx<0.29.0,>=0.26.0->weaviate-client)\n",
      "  Using cached anyio-4.9.0-py3-none-any.whl.metadata (4.7 kB)\n",
      "Requirement already satisfied: certifi in /opt/homebrew/lib/python3.11/site-packages (from httpx<0.29.0,>=0.26.0->weaviate-client) (2025.6.15)\n",
      "Collecting httpcore==1.* (from httpx<0.29.0,>=0.26.0->weaviate-client)\n",
      "  Using cached httpcore-1.0.9-py3-none-any.whl.metadata (21 kB)\n",
      "Requirement already satisfied: idna in /opt/homebrew/lib/python3.11/site-packages (from httpx<0.29.0,>=0.26.0->weaviate-client) (3.10)\n",
      "Collecting h11>=0.16 (from httpcore==1.*->httpx<0.29.0,>=0.26.0->weaviate-client)\n",
      "  Using cached h11-0.16.0-py3-none-any.whl.metadata (8.3 kB)\n",
      "Collecting annotated-types>=0.6.0 (from pydantic<3.0.0,>=2.8.0->weaviate-client)\n",
      "  Using cached annotated_types-0.7.0-py3-none-any.whl.metadata (15 kB)\n",
      "Collecting pydantic-core==2.33.2 (from pydantic<3.0.0,>=2.8.0->weaviate-client)\n",
      "  Using cached pydantic_core-2.33.2-cp311-cp311-macosx_11_0_arm64.whl.metadata (6.8 kB)\n",
      "Requirement already satisfied: typing-extensions>=4.12.2 in /Users/shreyabaral/Library/Python/3.11/lib/python/site-packages (from pydantic<3.0.0,>=2.8.0->weaviate-client) (4.12.2)\n",
      "Collecting typing-inspection>=0.4.0 (from pydantic<3.0.0,>=2.8.0->weaviate-client)\n",
      "  Using cached typing_inspection-0.4.1-py3-none-any.whl.metadata (2.6 kB)\n",
      "Collecting sniffio>=1.1 (from anyio->httpx<0.29.0,>=0.26.0->weaviate-client)\n",
      "  Using cached sniffio-1.3.1-py3-none-any.whl.metadata (3.9 kB)\n",
      "Collecting cffi>=1.14 (from cryptography->authlib<2.0.0,>=1.2.1->weaviate-client)\n",
      "  Downloading cffi-1.17.1-cp311-cp311-macosx_11_0_arm64.whl.metadata (1.5 kB)\n",
      "Collecting pycparser (from cffi>=1.14->cryptography->authlib<2.0.0,>=1.2.1->weaviate-client)\n",
      "  Using cached pycparser-2.22-py3-none-any.whl.metadata (943 bytes)\n",
      "Downloading weaviate_client-4.15.4-py3-none-any.whl (432 kB)\n",
      "Using cached validators-0.34.0-py3-none-any.whl (43 kB)\n",
      "Downloading authlib-1.6.0-py2.py3-none-any.whl (239 kB)\n",
      "Using cached deprecation-2.1.0-py2.py3-none-any.whl (11 kB)\n",
      "Downloading grpcio-1.73.1-cp311-cp311-macosx_11_0_universal2.whl (10.6 MB)\n",
      "\u001b[2K   \u001b[90m━━━━━━━━━━━━━━━━━━━━━━━━━━━━━━━━━━━━━━━━\u001b[0m \u001b[32m10.6/10.6 MB\u001b[0m \u001b[31m13.1 MB/s\u001b[0m eta \u001b[36m0:00:00\u001b[0m \u001b[36m0:00:01\u001b[0m\n",
      "\u001b[?25hDownloading grpcio_health_checking-1.73.1-py3-none-any.whl (18 kB)\n",
      "Downloading grpcio_tools-1.73.1-cp311-cp311-macosx_11_0_universal2.whl (5.8 MB)\n",
      "\u001b[2K   \u001b[90m━━━━━━━━━━━━━━━━━━━━━━━━━━━━━━━━━━━━━━━━\u001b[0m \u001b[32m5.8/5.8 MB\u001b[0m \u001b[31m9.9 MB/s\u001b[0m eta \u001b[36m0:00:00\u001b[0mta \u001b[36m0:00:01\u001b[0m\n",
      "\u001b[?25hUsing cached httpx-0.28.1-py3-none-any.whl (73 kB)\n",
      "Using cached httpcore-1.0.9-py3-none-any.whl (78 kB)\n",
      "Downloading pydantic-2.11.7-py3-none-any.whl (444 kB)\n",
      "Using cached pydantic_core-2.33.2-cp311-cp311-macosx_11_0_arm64.whl (1.9 MB)\n",
      "Using cached annotated_types-0.7.0-py3-none-any.whl (13 kB)\n",
      "Using cached h11-0.16.0-py3-none-any.whl (37 kB)\n",
      "Using cached typing_inspection-0.4.1-py3-none-any.whl (14 kB)\n",
      "Using cached anyio-4.9.0-py3-none-any.whl (100 kB)\n",
      "Using cached sniffio-1.3.1-py3-none-any.whl (10 kB)\n",
      "Downloading cryptography-45.0.5-cp311-abi3-macosx_10_9_universal2.whl (7.0 MB)\n",
      "\u001b[2K   \u001b[90m━━━━━━━━━━━━━━━━━━━━━━━━━━━━━━━━━━━━━━━━\u001b[0m \u001b[32m7.0/7.0 MB\u001b[0m \u001b[31m13.7 MB/s\u001b[0m eta \u001b[36m0:00:00\u001b[0ma \u001b[36m0:00:01\u001b[0m\n",
      "\u001b[?25hDownloading cffi-1.17.1-cp311-cp311-macosx_11_0_arm64.whl (178 kB)\n",
      "Using cached pycparser-2.22-py3-none-any.whl (117 kB)\n",
      "Installing collected packages: validators, typing-inspection, sniffio, pydantic-core, pycparser, h11, grpcio, deprecation, annotated-types, pydantic, httpcore, grpcio-tools, grpcio-health-checking, cffi, anyio, httpx, cryptography, authlib, weaviate-client\n",
      "\u001b[2K   \u001b[90m━━━━━━━━━━━━━━━━━━━━━━━━━━━━━━━━━━━━━━━━\u001b[0m \u001b[32m19/19\u001b[0m [weaviate-client] [weaviate-client]ecking]\n",
      "\u001b[1A\u001b[2KSuccessfully installed annotated-types-0.7.0 anyio-4.9.0 authlib-1.6.0 cffi-1.17.1 cryptography-45.0.5 deprecation-2.1.0 grpcio-1.73.1 grpcio-health-checking-1.73.1 grpcio-tools-1.73.1 h11-0.16.0 httpcore-1.0.9 httpx-0.28.1 pycparser-2.22 pydantic-2.11.7 pydantic-core-2.33.2 sniffio-1.3.1 typing-inspection-0.4.1 validators-0.34.0 weaviate-client-4.15.4\n",
      "Note: you may need to restart the kernel to use updated packages.\n"
     ]
    }
   ],
   "source": [
    "pip install weaviate-client\n"
   ]
  },
  {
   "cell_type": "code",
   "execution_count": 8,
   "id": "c67f5c72-9f0c-4280-9b7e-b5ab29cd04ae",
   "metadata": {},
   "outputs": [
    {
     "name": "stderr",
     "output_type": "stream",
     "text": [
      "/opt/homebrew/lib/python3.11/site-packages/tqdm/auto.py:21: TqdmWarning: IProgress not found. Please update jupyter and ipywidgets. See https://ipywidgets.readthedocs.io/en/stable/user_install.html\n",
      "  from .autonotebook import tqdm as notebook_tqdm\n"
     ]
    }
   ],
   "source": [
    "from fastembed import TextEmbedding\n"
   ]
  },
  {
   "cell_type": "code",
   "execution_count": 19,
   "id": "6e7ef6b4-f1b8-43d3-81e2-0d8dec81702f",
   "metadata": {},
   "outputs": [],
   "source": [
    "COLLECTION_NAME = \"Books\"  # capitalize the first letter of collection names\n",
    "BOOK_DESCRIPTION_FOLDER = \"include/data\"\n",
    "EMBEDDING_MODEL_NAME = \"BAAI/bge-small-en-v1.5\""
   ]
  },
  {
   "cell_type": "code",
   "execution_count": null,
   "id": "565c79f9-d4d0-40b4-8763-a290ed2defdf",
   "metadata": {},
   "outputs": [
    {
     "name": "stdout",
     "output_type": "stream",
     "text": [
      "Started new embedded Weaviate instance.\n",
      "Client is ready: True\n"
     ]
    }
   ],
   "source": [
    "\n",
    "#instantiate local weaviate client\n",
    "with suppress_output():\n",
    "    client = weaviate.connect_to_local(\n",
    "       \n",
    "    )\n",
    "print(\"Started new embedded Weaviate instance.\")\n",
    "print(f\"Client is ready: {client.is_ready()}\")"
   ]
  },
  {
   "cell_type": "code",
   "execution_count": 16,
   "id": "8d5dddf2-b59f-4a2c-9406-8ec7ea98d301",
   "metadata": {},
   "outputs": [
    {
     "name": "stdout",
     "output_type": "stream",
     "text": [
      "CollectionBooks already exists\n"
     ]
    }
   ],
   "source": [
    "#creating the collection\n",
    "existing_collections= client.collections.list_all()\n",
    "existing_collection_names=existing_collections.keys()\n",
    "\n",
    "if COLLECTION_NAME not in existing_collection_names:\n",
    "    print(f\"Collections{COLLECTION_NAME}does not exist yet.Creating it...\")\n",
    "    collection=client.collections.create(name=COLLECTION_NAME)\n",
    "    print(f\"Collection {COLLECTION_NAME} created successfully.\")\n",
    "else:\n",
    "    print(f\"Collection{COLLECTION_NAME} already exists\")\n",
    "    collection= client.collections.get(COLLECTION_NAME)"
   ]
  },
  {
   "cell_type": "code",
   "execution_count": 20,
   "id": "8bb7ff72-f4eb-4246-afc8-63d3b97d57f8",
   "metadata": {},
   "outputs": [
    {
     "name": "stdout",
     "output_type": "stream",
     "text": [
      "The following files with book descriptions were found: ['my_book_descriptions.txt']\n"
     ]
    }
   ],
   "source": [
    "#Extract text from local files\n",
    "#list the book description files\n",
    "import os\n",
    "book_description_files = [\n",
    "    f for f in os.listdir(BOOK_DESCRIPTION_FOLDER)\n",
    "    if f.endswith('.txt')\n",
    "    \n",
    "]\n",
    "print(f\"The following files with book descriptions were found: {book_description_files}\")"
   ]
  },
  {
   "cell_type": "code",
   "execution_count": 21,
   "id": "a170419f-1947-4e90-8fa0-38e06c1f4a5e",
   "metadata": {},
   "outputs": [],
   "source": [
    "# Add your own book description file\n",
    "# Format \n",
    "# [Integer Index] ::: [Book Title] ([Release year]) ::: [Author] ::: [Description]\n",
    "\n",
    "my_book_description = \"\"\"0 ::: The Idea of the World (2019) ::: Bernardo Kastrup ::: An ontological thesis arguing for the primacy of mind over matter.\n",
    "1 ::: Exploring the World of Lucid Dreaming (1990) ::: Stephen LaBerge ::: A practical guide to learning and enjoying lucid dreams.\n",
    "2 ::: Don’t Let Him In (2025) ::: Lisa Jewell ::: A gripping psychological thriller.\n",
    "3 ::: Atmosphere (2025) ::: Taylor Jenkins Reid ::: Contemporary fiction exploring identity and relationships.\n",
    "4 ::: A Mother’s Love (2025) ::: Danielle Steel ::: Emotional family drama.\n",
    "5 ::: Never Flinch (2025) ::: Stephen King ::: A chilling thriller.\n",
    "6 ::: The Knight and the Moth (2025) ::: Rachel Gillig ::: Epic fantasy about destiny and rebellion.\n",
    "7 ::: Great Big Beautiful Life (2025) ::: Emily Henry ::: Heart-warming contemporary fiction.\n",
    "8 ::: My Friends (2025) ::: Fredrik Backman ::: Reflective literary fiction.\n",
    "9 ::: Original Sin (2025) ::: Tapper & Thompson ::: Political non-fiction exploring truth and power.\n",
    "10 ::: The Let Them Theory (2025) ::: Mel Robbins ::: Motivational self-help on boundaries and mindset.\n",
    "11 ::: Baking Across America (2025) ::: B. Dylan Hollis ::: Food memoir and cookbook.\n",
    "12 ::: Iron Flame (2024) ::: Rebecca Yarros ::: High-fantasy sequel with dragons and rebellion.\n",
    "13 ::: Fourth Wing (2023) ::: Rebecca Yarros ::: Fantasy romance bestseller.\n",
    "14 ::: Onyx Storm (2024) ::: Rebecca Yarros ::: Romantic fantasy adventure.\n",
    "15 ::: One Golden Summer (2025) ::: Carley Fortune ::: Contemporary romance about second chances.\n",
    "16 ::: The Tenant (2025) ::: Freida McFadden ::: Psychological thriller full of suspense.\n",
    "17 ::: The Boyfriend (2025) ::: Freida McFadden ::: Twisty and unsettling domestic thriller.\n",
    "18 ::: The Crash (2025) ::: Freida McFadden ::: Gripping thriller involving memory and mystery.\n",
    "19 ::: Jujutsu Kaisen Vol. 26 (2025) ::: Gege Akutami ::: Popular shōnen manga with supernatural battles.\n",
    "20 ::: Solo Leveling Vol. 12 (2025) ::: Dubu & Chugong ::: Hit fantasy webtoon adaptation.\n",
    "21 ::: The Great Gatsby (1925) ::: F. Scott Fitzgerald ::: Classic American novel of wealth and illusion.\n",
    "22 ::: Atlas of the Heart (2021) ::: Brené Brown ::: Guide to emotional language and connection.\n",
    "23 ::: The Four Winds (2021) ::: Kristin Hannah ::: Historical fiction during the Great Depression.\n",
    "24 ::: How Not to Die (2015) ::: Michael Greger, MD ::: Health and nutrition science-based guide.\n",
    "25 ::: And Then There Were None (1939) ::: Agatha Christie ::: Masterful locked-room mystery.\n",
    "26 ::: The Da Vinci Code (2003) ::: Dan Brown ::: Worldwide thriller about secret societies.\n",
    "27 ::: She: A History of Adventure (1887) ::: H. Rider Haggard ::: Adventure fantasy novel.\n",
    "28 ::: Harry Potter and the Chamber of Secrets (1998) ::: J.K. Rowling ::: Second book in the iconic fantasy series.\n",
    "29 ::: Harry Potter and the Deathly Hallows (2007) ::: J.K. Rowling ::: Final epic in the Harry Potter saga.\n",
    "30 ::: The Girl with the Dragon Tattoo (2005) ::: Stieg Larsson ::: International crime thriller.\n",
    "31 ::: Where the Crawdads Sing (2018) ::: Delia Owens ::: Literary mystery about loneliness and survival.\n",
    "32 ::: 1984 (1949) ::: George Orwell ::: Dystopian vision of a totalitarian future.\n",
    "33 ::: The 7 Habits of Highly Effective People (1989) ::: Stephen R. Covey ::: Classic personal development guide.\n",
    "34 ::: To Kill a Mockingbird (1960) ::: Harper Lee ::: Pulitzer-winning novel on race and justice.\n",
    "35 ::: The Alchemist (1988) ::: Paulo Coelho ::: Spiritual journey of personal legend.\n",
    "36 ::: The Hobbit (1937) ::: J.R.R. Tolkien ::: Fantasy adventure and prelude to The Lord of the Rings.\n",
    "37 ::: A Game of Thrones (1996) ::: George R.R. Martin ::: Political intrigue in a medieval fantasy world.\n",
    "38 ::: The Very Hungry Caterpillar (1969) ::: Eric Carle ::: Beloved children’s picture book.\n",
    "39 ::: Think and Grow Rich (1937) ::: Napoleon Hill ::: Foundational self-help and business mindset book.\n",
    "40 ::: Anne of Green Gables (1908) ::: L.M. Montgomery ::: Classic coming-of-age story.\n",
    "41 ::: Black Beauty (1877) ::: Anna Sewell ::: Moving story told from a horse’s perspective.\n",
    "42 ::: The Name of the Rose (1980) ::: Umberto Eco ::: Medieval mystery and philosophical novel.\n",
    "43 ::: Charlotte’s Web (1952) ::: E.B. White ::: Heartwarming tale of friendship and loss.\n",
    "44 ::: The Eagle Has Landed (1975) ::: Jack Higgins ::: WWII thriller with suspense and deception.\n",
    "45 ::: Sophie’s World (1991) ::: Jostein Gaarder ::: Philosophical novel exploring the history of thought.\n",
    "46 ::: Dune (1965) ::: Frank Herbert ::: Epic science fiction saga on politics and ecology.\n",
    "47 ::: Man’s Search for Meaning (1946) ::: Viktor E. Frankl ::: Memoir and psychology of survival and purpose.\n",
    "48 ::: Catch-22 (1961) ::: Joseph Heller ::: Satirical anti-war novel with paradoxical logic.\n",
    "49 ::: The Catcher in the Rye (1951) ::: J.D. Salinger ::: Classic coming-of-age story of teenage alienation.\"\"\"\n",
    "\n",
    "# Write to file\n",
    "with open(f\"{BOOK_DESCRIPTION_FOLDER}/my_book_descriptions.txt\", 'w') as f:\n",
    "    f.write(my_book_description)\n"
   ]
  },
  {
   "cell_type": "code",
   "execution_count": 22,
   "id": "4d22a5dd-635f-43be-b40b-55b9bbc39efc",
   "metadata": {},
   "outputs": [],
   "source": [
    "book_description_files = [\n",
    "    f for f in os.listdir(BOOK_DESCRIPTION_FOLDER)\n",
    "    if f.endswith('.txt')\n",
    "]\n",
    "\n",
    "list_of_book_data = []\n",
    "\n",
    "for book_description_file in book_description_files:\n",
    "    with open(\n",
    "        os.path.join(BOOK_DESCRIPTION_FOLDER, book_description_file), \"r\"\n",
    "    ) as f:\n",
    "        book_descriptions = f.readlines()\n",
    "    \n",
    "    titles = [\n",
    "        book_description.split(\":::\")[1].strip()\n",
    "        for book_description in book_descriptions\n",
    "    ]\n",
    "    authors = [\n",
    "        book_description.split(\":::\")[2].strip()\n",
    "        for book_description in book_descriptions\n",
    "    ]\n",
    "    book_description_text = [\n",
    "        book_description.split(\":::\")[3].strip()\n",
    "        for book_description in book_descriptions\n",
    "    ]\n",
    "    \n",
    "    book_descriptions = [\n",
    "        {\n",
    "            \"title\": title,\n",
    "            \"author\": author,\n",
    "            \"description\": description,\n",
    "        }\n",
    "        for title, author, description in zip(\n",
    "            titles, authors, book_description_text\n",
    "        )\n",
    "    ]\n",
    "\n",
    "    list_of_book_data.append(book_descriptions)"
   ]
  },
  {
   "cell_type": "code",
   "execution_count": 23,
   "id": "a838f0d8-0738-4766-b86f-5d779ee5a07a",
   "metadata": {},
   "outputs": [
    {
     "name": "stderr",
     "output_type": "stream",
     "text": [
      "/Users/shreyabaral/Library/Python/3.11/lib/python/site-packages/IPython/core/display.py:661: UserWarning: JSON expects JSONable dict or list, not JSON strings\n",
      "  warnings.warn(\"JSON expects JSONable dict or list, not JSON strings\")\n"
     ]
    },
    {
     "data": {
      "application/json": "",
      "text/plain": [
       "<IPython.core.display.JSON object>"
      ]
     },
     "execution_count": 23,
     "metadata": {
      "application/json": {
       "expanded": false,
       "root": "root"
      }
     },
     "output_type": "execute_result"
    }
   ],
   "source": [
    "import json\n",
    "from IPython.display import JSON\n",
    "JSON(json.dumps(list_of_book_data))"
   ]
  },
  {
   "cell_type": "code",
   "execution_count": 24,
   "id": "3597d90e-669c-4478-8eac-3e5da101f712",
   "metadata": {},
   "outputs": [],
   "source": [
    "#create vector embeddings from descriptions \n",
    "embedding_model= TextEmbedding(EMBEDDING_MODEL_NAME)\n",
    "list_of_description_embeddings = []\n",
    "for book_data in list_of_book_data:\n",
    "    book_description= [book['description'] for book in book_data]\n",
    "    description_embeddings= [\n",
    "    list(embedding_model.embed([desc]))[0]for desc in book_description]\n",
    "    list_of_description_embeddings.append(description_embeddings)"
   ]
  },
  {
   "cell_type": "code",
   "execution_count": 33,
   "id": "a8141da0",
   "metadata": {},
   "outputs": [],
   "source": [
    "from weaviate.classes.data import DataObject\n",
    "\n",
    "#load embeddings to weaviate\n",
    "for book_data_list,emb_list in zip(list_of_book_data,list_of_description_embeddings):\n",
    "    items=[]\n",
    "\n",
    "    for book_data,emb in zip(book_data_list,emb_list):\n",
    "        item=DataObject(\n",
    "            properties={\n",
    "                \"title\":book_data[\"title\"],\n",
    "                \"author\":book_data[\"author\"],\n",
    "                \"description\":book_data[\"description\"],\n",
    "              \n",
    "            },\n",
    "            vector=emb,\n",
    "            \n",
    "        )\n",
    "        items.append(item)\n",
    "    collection.data.insert_many(items)\n",
    "    "
   ]
  },
  {
   "cell_type": "code",
   "execution_count": 34,
   "id": "991c2c7c",
   "metadata": {},
   "outputs": [
    {
     "name": "stdout",
     "output_type": "stream",
     "text": [
      "You should read: Sophie’s World (1991) by Jostein Gaarder\n",
      "Description:\n",
      "Philosophical novel exploring the history of thought.\n"
     ]
    }
   ],
   "source": [
    "query_str = \"A philosophical book\"\n",
    "\n",
    "embedding_model = TextEmbedding(EMBEDDING_MODEL_NAME)  \n",
    "collection = client.collections.get(COLLECTION_NAME)\n",
    "\n",
    "query_emb = list(embedding_model.embed([query_str]))[0]\n",
    "\n",
    "results = collection.query.near_vector(\n",
    "    near_vector=query_emb,\n",
    "    limit=1,\n",
    ")\n",
    "for result in results.objects:\n",
    "    print(f\"You should read: {result.properties['title']} by {result.properties['author']}\")\n",
    "    print(\"Description:\")\n",
    "    print(result.properties[\"description\"])"
   ]
  },
  {
   "cell_type": "code",
   "execution_count": null,
   "id": "31da252e",
   "metadata": {},
   "outputs": [],
   "source": []
  }
 ],
 "metadata": {
  "kernelspec": {
   "display_name": "bookrec-venv",
   "language": "python",
   "name": "bookrec-venv"
  },
  "language_info": {
   "codemirror_mode": {
    "name": "ipython",
    "version": 3
   },
   "file_extension": ".py",
   "mimetype": "text/x-python",
   "name": "python",
   "nbconvert_exporter": "python",
   "pygments_lexer": "ipython3",
   "version": "3.11.5"
  }
 },
 "nbformat": 4,
 "nbformat_minor": 5
}
